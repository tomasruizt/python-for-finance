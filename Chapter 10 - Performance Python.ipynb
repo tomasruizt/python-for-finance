{
 "cells": [
  {
   "cell_type": "markdown",
   "id": "f634554d-cab3-42f9-bb8d-266a33145a29",
   "metadata": {},
   "source": [
    "# Numba\n",
    "### Accelerating a function with Numba"
   ]
  },
  {
   "cell_type": "code",
   "execution_count": 1,
   "id": "e1181598-3890-4074-a435-f43f963fe2e9",
   "metadata": {},
   "outputs": [],
   "source": [
    "import math\n",
    "import numpy as np\n",
    "import numba"
   ]
  },
  {
   "cell_type": "code",
   "execution_count": 2,
   "id": "93a61add-f271-442f-90c6-d7e7b62b1aea",
   "metadata": {},
   "outputs": [],
   "source": [
    "def simulate_tree(M: int):\n",
    "    S0 = 36.\n",
    "    T=1.0\n",
    "    r=0.06\n",
    "    sigma = 0.2\n",
    "\n",
    "    dt=T/M\n",
    "    u = math.exp(sigma * math.sqrt(dt))\n",
    "    d=1/u\n",
    "    S=np.zeros((M+1,M+1))\n",
    "    S[0,0]=S0\n",
    "    z=1\n",
    "    for t in range(1, M + 1):\n",
    "        for i in range(z):\n",
    "            S[i, t] = S[i, t-1]*u\n",
    "            S[i+1, t] = S[i, t-1] * d\n",
    "        z+=1\n",
    "    return S"
   ]
  },
  {
   "cell_type": "code",
   "execution_count": 3,
   "id": "7c632fa6-96d3-4dd2-9d59-fdb2b81aeac1",
   "metadata": {},
   "outputs": [],
   "source": [
    "simulate_tree_nb = numba.njit(simulate_tree)"
   ]
  },
  {
   "cell_type": "code",
   "execution_count": 4,
   "id": "3dbb1a60-2b37-48a9-8630-71f77085123c",
   "metadata": {},
   "outputs": [
    {
     "name": "stdout",
     "output_type": "stream",
     "text": [
      "1.01 s ± 10.4 ms per loop (mean ± std. dev. of 7 runs, 1 loop each)\n"
     ]
    }
   ],
   "source": [
    "%timeit simulate_tree(2000)"
   ]
  },
  {
   "cell_type": "code",
   "execution_count": 5,
   "id": "10b243a0-6ad2-4e4c-ba8f-ad4588a0b94b",
   "metadata": {},
   "outputs": [
    {
     "name": "stdout",
     "output_type": "stream",
     "text": [
      "4.15 ms ± 204 µs per loop (mean ± std. dev. of 7 runs, 1 loop each)\n"
     ]
    }
   ],
   "source": [
    "%timeit simulate_tree_nb(2000)"
   ]
  },
  {
   "cell_type": "markdown",
   "id": "537e28ce-15be-4580-b86d-3d2ad6adee41",
   "metadata": {},
   "source": [
    "Numba is over 300x faster (!) than pure Python"
   ]
  },
  {
   "cell_type": "code",
   "execution_count": 6,
   "id": "32292a52-bf4a-45f3-9ac8-bd321a2193bb",
   "metadata": {},
   "outputs": [
    {
     "data": {
      "text/plain": [
       "322.5"
      ]
     },
     "execution_count": 6,
     "metadata": {},
     "output_type": "execute_result"
    }
   ],
   "source": [
    "1290 / 4  # runtime in miliseconds"
   ]
  },
  {
   "cell_type": "markdown",
   "id": "d0dac905-f37e-4abf-986e-0fa5dc016e20",
   "metadata": {},
   "source": [
    "### Support for classes in Numba\n",
    "(Still experimental)..."
   ]
  },
  {
   "cell_type": "markdown",
   "id": "f5774dd0-8408-480d-9c85-0dbbcacf9461",
   "metadata": {},
   "source": [
    "# Monte Carlo\n",
    "### Option Pricing"
   ]
  },
  {
   "cell_type": "code",
   "execution_count": 7,
   "id": "a415283e-ec28-4e2e-b925-2b314b23e074",
   "metadata": {},
   "outputs": [],
   "source": [
    "import matplotlib.pyplot as plt"
   ]
  },
  {
   "cell_type": "code",
   "execution_count": 8,
   "id": "05d30e90-d98c-4cf1-86b7-933f3bb5e2ea",
   "metadata": {},
   "outputs": [],
   "source": [
    "S0 = 36.0 # underlying price\n",
    "r = 0.03  # interest rate\n",
    "sigma = 0.2 # underyling volatitliy\n",
    "T = 2.0   # num years\n",
    "M = 100   # num steps\n",
    "I = 50000 # num scenarios"
   ]
  },
  {
   "cell_type": "code",
   "execution_count": 9,
   "id": "12a556a9-420f-4139-8d1c-d1453dc97922",
   "metadata": {},
   "outputs": [],
   "source": [
    "@numba.njit\n",
    "def mcs_simulation_py(M, I):\n",
    "    dt=T/M\n",
    "    S = np.zeros((M + 1, I))\n",
    "    S[0] = S0\n",
    "    rn = np.random.standard_normal(S.shape) \n",
    "    for t in range(1, M + 1):\n",
    "        for i in range(I):\n",
    "            S[t, i] = S[t-1, i] * math.exp((r-sigma**2/2)*dt+sigma * math.sqrt(dt) * rn[t, i])\n",
    "    return S"
   ]
  },
  {
   "cell_type": "code",
   "execution_count": 10,
   "id": "79257155-cd73-4245-926e-e33991f6fdab",
   "metadata": {},
   "outputs": [],
   "source": [
    "paths = mcs_simulation_py(1000, 100000)\n",
    "Sn = paths[-1]"
   ]
  },
  {
   "cell_type": "code",
   "execution_count": 11,
   "id": "cd2e5b49-0f8c-4e5d-a902-81dccc77b6f8",
   "metadata": {},
   "outputs": [
    {
     "data": {
      "text/plain": [
       "array([32.76494151, 37.53258672, 40.64340654, ..., 30.25154531,\n",
       "       35.75693556, 33.67083172])"
      ]
     },
     "execution_count": 11,
     "metadata": {},
     "output_type": "execute_result"
    }
   ],
   "source": [
    "Sn"
   ]
  },
  {
   "cell_type": "code",
   "execution_count": 12,
   "id": "0816d10f-ca04-4e2a-b6a0-aa6bb6845930",
   "metadata": {},
   "outputs": [],
   "source": [
    "K = 40.0  # Option Strike Price\n",
    "payoff = np.maximum(Sn - K, 0)"
   ]
  },
  {
   "cell_type": "code",
   "execution_count": 13,
   "id": "dfcce17d-3886-4668-8282-aca6ca96a274",
   "metadata": {},
   "outputs": [
    {
     "data": {
      "image/png": "[encoded data removed]",
      "text/plain": [
       "<Figure size 640x480 with 2 Axes>"
      ]
     },
     "metadata": {},
     "output_type": "display_data"
    }
   ],
   "source": [
    "plt.hist(Sn, bins=75, density=True)\n",
    "plt.twinx()\n",
    "xs = np.linspace(Sn.min(), Sn.max(), 100)\n",
    "ys = np.maximum(xs - K, 0)\n",
    "plt.plot(xs, ys, color=\"orange\")\n",
    "plt.show()"
   ]
  },
  {
   "cell_type": "code",
   "execution_count": 14,
   "id": "ffdc16fb-b77f-415f-9c26-8c717475c698",
   "metadata": {},
   "outputs": [
    {
     "data": {
      "image/png": "[encoded data removed]",
      "text/plain": [
       "<Figure size 640x480 with 1 Axes>"
      ]
     },
     "metadata": {},
     "output_type": "display_data"
    }
   ],
   "source": [
    "plt.hist(payoff, bins=20, density=True)\n",
    "plt.show()"
   ]
  },
  {
   "cell_type": "code",
   "execution_count": 15,
   "id": "ce763e8a-ef69-4760-9d9c-4503df0e8a0c",
   "metadata": {},
   "outputs": [
    {
     "data": {
      "text/plain": [
       "3.379649235746311"
      ]
     },
     "execution_count": 15,
     "metadata": {},
     "output_type": "execute_result"
    }
   ],
   "source": [
    "C0 = math.exp(- r * T) * payoff.mean()\n",
    "C0"
   ]
  },
  {
   "cell_type": "markdown",
   "id": "3c045be3-0380-485d-9fad-f2438a1b946f",
   "metadata": {},
   "source": [
    "### Drawing samples straight from the Log-Normal distribution"
   ]
  },
  {
   "cell_type": "code",
   "execution_count": 16,
   "id": "eed58d7e-d924-48cc-b9ef-aa5f6d749c16",
   "metadata": {},
   "outputs": [],
   "source": [
    "from scipy.stats import lognorm"
   ]
  },
  {
   "cell_type": "code",
   "execution_count": 17,
   "id": "7a660ddf-9be0-4a1f-b8e2-7dbe2c3ec64b",
   "metadata": {},
   "outputs": [
    {
     "data": {
      "image/png": "[encoded data removed]",
      "text/plain": [
       "<Figure size 640x480 with 1 Axes>"
      ]
     },
     "metadata": {},
     "output_type": "display_data"
    }
   ],
   "source": [
    "xs = np.linspace(10, 130, 100)\n",
    "\n",
    "# Parameters for the log-normal distribution\n",
    "mu_log = np.log(S0) + (r - (sigma**2) / 2) * T\n",
    "sigma_log = sigma * np.sqrt(T)\n",
    "\n",
    "# Create the log-normal distribution\n",
    "rv = lognorm(scale=np.exp(mu_log), s=sigma_log)\n",
    "ys = rv.pdf(xs)\n",
    "plt.plot(xs, ys)\n",
    "plt.show()"
   ]
  },
  {
   "cell_type": "code",
   "execution_count": 18,
   "id": "0036e087-e82a-469f-acc6-46e9a97911a6",
   "metadata": {},
   "outputs": [
    {
     "data": {
      "image/png": "[encoded data removed]",
      "text/plain": [
       "<Figure size 640x480 with 1 Axes>"
      ]
     },
     "metadata": {},
     "output_type": "display_data"
    }
   ],
   "source": [
    "Sn_2 = rv.rvs(100000)\n",
    "plt.hist(Sn_2, bins=75, density=True)\n",
    "plt.show()"
   ]
  },
  {
   "cell_type": "code",
   "execution_count": 19,
   "id": "310d5b8a-b4a1-4e6b-98e0-831d2c3b59f0",
   "metadata": {},
   "outputs": [
    {
     "data": {
      "text/plain": [
       "(38.24124542245058, 38.29326025938855)"
      ]
     },
     "execution_count": 19,
     "metadata": {},
     "output_type": "execute_result"
    }
   ],
   "source": [
    "Sn.mean(), Sn_2.mean()"
   ]
  },
  {
   "cell_type": "code",
   "execution_count": 20,
   "id": "52d3579a-ce8f-400a-9506-8bce5ef54bc5",
   "metadata": {},
   "outputs": [
    {
     "data": {
      "text/plain": [
       "(11.077745768394857, 11.053179621339611)"
      ]
     },
     "execution_count": 20,
     "metadata": {},
     "output_type": "execute_result"
    }
   ],
   "source": [
    "Sn.std(), Sn_2.std()"
   ]
  },
  {
   "cell_type": "markdown",
   "id": "cae5a78d-c2bc-4656-9c72-fe5f08e0b7c2",
   "metadata": {},
   "source": [
    "### Compute the option price with integration\n",
    "We can see that the integration method comes closer to the black-scholes price."
   ]
  },
  {
   "cell_type": "code",
   "execution_count": 21,
   "id": "c71ddaff-f4a0-465c-8c43-9018d7d178b9",
   "metadata": {},
   "outputs": [],
   "source": [
    "xs = np.linspace(0, 150, 1000)\n",
    "payoff = np.maximum(xs - K, 0)"
   ]
  },
  {
   "cell_type": "code",
   "execution_count": 22,
   "id": "1e79cc52-76fb-483c-af75-74f191c840a8",
   "metadata": {},
   "outputs": [
    {
     "data": {
      "text/plain": [
       "3.567874805990943"
      ]
     },
     "execution_count": 22,
     "metadata": {},
     "output_type": "execute_result"
    }
   ],
   "source": [
    "np.trapz(payoff * rv.pdf(xs), xs)"
   ]
  },
  {
   "cell_type": "code",
   "execution_count": 23,
   "id": "effb79af-2d02-4c9b-b680-634c786787c9",
   "metadata": {},
   "outputs": [
    {
     "data": {
      "text/plain": [
       "3.588635073019527"
      ]
     },
     "execution_count": 23,
     "metadata": {},
     "output_type": "execute_result"
    }
   ],
   "source": [
    "np.maximum(Sn - K, 0).mean()"
   ]
  },
  {
   "cell_type": "code",
   "execution_count": 24,
   "id": "9a3c5ed0-77e0-473f-bff3-072155f5edcd",
   "metadata": {},
   "outputs": [],
   "source": [
    "from scipy.stats import norm\n",
    "\n",
    "def black_scholes():\n",
    "    # Calculate d1 and d2\n",
    "    d1 = (np.log(S0 / K) + (r + (sigma**2) / 2) * T) / (sigma * np.sqrt(T))\n",
    "    d2 = d1 - sigma * np.sqrt(T)\n",
    "    \n",
    "    # Calculate the call option price\n",
    "    return S0 * norm.cdf(d1) - K * np.exp(-r * T) * norm.cdf(d2)"
   ]
  },
  {
   "cell_type": "code",
   "execution_count": 25,
   "id": "91a7a8ce-d71e-4c7e-9017-d3c37e8c6175",
   "metadata": {},
   "outputs": [
    {
     "data": {
      "text/plain": [
       "3.5678856399547594"
      ]
     },
     "execution_count": 25,
     "metadata": {},
     "output_type": "execute_result"
    }
   ],
   "source": [
    "black_scholes() * np.exp(r*T)  # black scholes without discount"
   ]
  }
 ],
 "metadata": {
  "kernelspec": {
   "display_name": "Python 3 (ipykernel)",
   "language": "python",
   "name": "python3"
  },
  "language_info": {
   "codemirror_mode": {
    "name": "ipython",
    "version": 3
   },
   "file_extension": ".py",
   "mimetype": "text/x-python",
   "name": "python",
   "nbconvert_exporter": "python",
   "pygments_lexer": "ipython3",
   "version": "3.11.2"
  }
 },
 "nbformat": 4,
 "nbformat_minor": 5
}
