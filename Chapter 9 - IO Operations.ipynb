{
 "cells": [
  {
   "cell_type": "markdown",
   "id": "bc0226ee-4cb5-4a2d-8715-266924a05756",
   "metadata": {},
   "source": [
    "# Numpy columns"
   ]
  },
  {
   "cell_type": "code",
   "execution_count": 3,
   "id": "5998f735-c3dd-47b1-946c-dda7964991d2",
   "metadata": {},
   "outputs": [],
   "source": [
    "import numpy as np"
   ]
  },
  {
   "cell_type": "code",
   "execution_count": 8,
   "id": "4afc35fb-e091-4b1e-9e4a-668d99f52a36",
   "metadata": {},
   "outputs": [
    {
     "data": {
      "text/plain": [
       "array([(0., 0.), (0., 0.), (0., 0.), (0., 0.), (0., 0.), (0., 0.),\n",
       "       (0., 0.), (0., 0.), (0., 0.), (0., 0.)],\n",
       "      dtype=[('col1', '<f4'), ('col2', '<f4')])"
      ]
     },
     "execution_count": 8,
     "metadata": {},
     "output_type": "execute_result"
    }
   ],
   "source": [
    "data = np.zeros(10, dtype=[(\"col1\", \"f\"), (\"col2\", \"f\")])\n",
    "data"
   ]
  },
  {
   "cell_type": "code",
   "execution_count": 15,
   "id": "9f31f82d-5c59-484c-8538-1a4352108c3e",
   "metadata": {},
   "outputs": [],
   "source": [
    "data[\"col1\"] = np.random.uniform(size=10)\n",
    "data[\"col2\"] = np.random.uniform(size=10)"
   ]
  },
  {
   "cell_type": "code",
   "execution_count": 23,
   "id": "9e2a852c-c0cf-453a-94f6-dff9d877c333",
   "metadata": {},
   "outputs": [
    {
     "data": {
      "text/plain": [
       "array([(0.45513675, 0.64701426), (0.12372657, 0.50704646),\n",
       "       (0.66332704, 0.5239138 ), (0.88437504, 0.6033789 ),\n",
       "       (0.04505349, 0.9895819 ), (0.3336479 , 0.92953384),\n",
       "       (0.9850311 , 0.21506199), (0.72928613, 0.27005926),\n",
       "       (0.5114393 , 0.4915855 ), (0.5302247 , 0.945231  )],\n",
       "      dtype=[('col1', '<f4'), ('col2', '<f4')])"
      ]
     },
     "execution_count": 23,
     "metadata": {},
     "output_type": "execute_result"
    }
   ],
   "source": [
    "data"
   ]
  },
  {
   "cell_type": "markdown",
   "id": "914467d6-4c78-45d6-b907-461bfba528bf",
   "metadata": {},
   "source": [
    "# Pandas IO"
   ]
  },
  {
   "cell_type": "code",
   "execution_count": 10,
   "id": "00bd2fe3-d59c-470e-ad62-72bb991684b0",
   "metadata": {},
   "outputs": [],
   "source": [
    "import pandas as pd"
   ]
  },
  {
   "cell_type": "code",
   "execution_count": 11,
   "id": "af995895-c698-4b86-9289-e23d918b024a",
   "metadata": {},
   "outputs": [
    {
     "data": {
      "text/html": [
       "<div>\n",
       "<style scoped>\n",
       "    .dataframe tbody tr th:only-of-type {\n",
       "        vertical-align: middle;\n",
       "    }\n",
       "\n",
       "    .dataframe tbody tr th {\n",
       "        vertical-align: top;\n",
       "    }\n",
       "\n",
       "    .dataframe thead th {\n",
       "        text-align: right;\n",
       "    }\n",
       "</style>\n",
       "<table border=\"1\" class=\"dataframe\">\n",
       "  <thead>\n",
       "    <tr style=\"text-align: right;\">\n",
       "      <th></th>\n",
       "      <th>x</th>\n",
       "      <th>y</th>\n",
       "    </tr>\n",
       "  </thead>\n",
       "  <tbody>\n",
       "    <tr>\n",
       "      <th>0</th>\n",
       "      <td>1</td>\n",
       "      <td>a</td>\n",
       "    </tr>\n",
       "    <tr>\n",
       "      <th>1</th>\n",
       "      <td>2</td>\n",
       "      <td>b</td>\n",
       "    </tr>\n",
       "    <tr>\n",
       "      <th>2</th>\n",
       "      <td>3</td>\n",
       "      <td>c</td>\n",
       "    </tr>\n",
       "  </tbody>\n",
       "</table>\n",
       "</div>"
      ],
      "text/plain": [
       "   x  y\n",
       "0  1  a\n",
       "1  2  b\n",
       "2  3  c"
      ]
     },
     "execution_count": 11,
     "metadata": {},
     "output_type": "execute_result"
    }
   ],
   "source": [
    "df = pd.DataFrame(data={\"x\": [1, 2, 3], \"y\": [\"a\", \"b\", \"c\"]})\n",
    "df"
   ]
  }
 ],
 "metadata": {
  "kernelspec": {
   "display_name": "Python 3 (ipykernel)",
   "language": "python",
   "name": "python3"
  },
  "language_info": {
   "codemirror_mode": {
    "name": "ipython",
    "version": 3
   },
   "file_extension": ".py",
   "mimetype": "text/x-python",
   "name": "python",
   "nbconvert_exporter": "python",
   "pygments_lexer": "ipython3",
   "version": "3.11.2"
  }
 },
 "nbformat": 4,
 "nbformat_minor": 5
}
