{
 "cells": [
  {
   "cell_type": "code",
   "execution_count": 128,
   "id": "4312f8a0-96ae-4254-9d46-056b6942c8f8",
   "metadata": {},
   "outputs": [],
   "source": [
    "import numpy as np\n",
    "import matplotlib.pyplot as plt"
   ]
  },
  {
   "cell_type": "markdown",
   "id": "1bc81d62-d563-42b0-8b72-31e93aaaaaa7",
   "metadata": {},
   "source": [
    "## Pricing Bonds\n",
    "* The price of the bond is known in the markeplace\n",
    "* The the cashflows are written in the contract\n",
    "* What is missing are the discount factors"
   ]
  },
  {
   "cell_type": "code",
   "execution_count": 129,
   "id": "cec57f6c-9efe-4c18-b52b-330c6471b84a",
   "metadata": {},
   "outputs": [],
   "source": [
    "F = 100  # face value\n",
    "P = 90   # current price\n",
    "ts = np.array([1, 2, 3]) / 12  # times for coupon payments, as fractions of a year\n",
    "tF = 4 / 12 # time for principal payment\n",
    "c = 0.05 # coupon rate"
   ]
  },
  {
   "cell_type": "markdown",
   "id": "e13786f6-7307-4cb7-88b5-5a9063f5553a",
   "metadata": {},
   "source": [
    "\n",
    "### Model 1: Single discount factor\n",
    "* We assume that the same discount rate $e^{-t}$ applies to all future cashflow, meaning\n",
    "$$\n",
    "P = \\underbrace{e^{-\\alpha t_N} F}_{\\text{discounted principal}} + \\sum^{N}_{i=1} \\underbrace{ e^{-\\alpha t_i} cF}_{\\text{discounted coupons}}\n",
    "$$\n",
    "Solve for $\\alpha$:\n",
    "$$ \n",
    "$$\n"
   ]
  },
  {
   "cell_type": "code",
   "execution_count": 130,
   "id": "ba36047f-51d9-44de-a29a-9329a62227fb",
   "metadata": {},
   "outputs": [],
   "source": [
    "alpha = 0.5"
   ]
  },
  {
   "cell_type": "code",
   "execution_count": 131,
   "id": "fcdcedbf-d515-43b1-a0d2-424db6dbea20",
   "metadata": {},
   "outputs": [],
   "source": [
    "def get_discounted_cashflows(alpha: float):\n",
    "    cashflows = F * np.array([*np.ones_like(ts) * c, 1])\n",
    "    discounts = np.exp(alpha * -np.array([*ts, tF]))    \n",
    "    discounted_cashflows = cashflows * discounts\n",
    "    return discounted_cashflows"
   ]
  },
  {
   "cell_type": "code",
   "execution_count": 132,
   "id": "57c9a7db-d7db-4521-b692-90f024360f74",
   "metadata": {},
   "outputs": [
    {
     "data": {
      "text/plain": [
       "100"
      ]
     },
     "execution_count": 132,
     "metadata": {},
     "output_type": "execute_result"
    }
   ],
   "source": [
    "alphas = np.linspace(0, 2, 100)\n",
    "prices = np.array([get_discounted_cashflows(a).sum() for a in alphas])\n",
    "len(prices)"
   ]
  },
  {
   "cell_type": "markdown",
   "id": "42cc79fd-e938-497a-b88b-dbc44403af27",
   "metadata": {},
   "source": [
    "Solve numerically (approximately):"
   ]
  },
  {
   "cell_type": "code",
   "execution_count": 133,
   "id": "a7d0a2c0-c943-4dfd-960d-691b3e0cdc95",
   "metadata": {},
   "outputs": [
    {
     "data": {
      "text/plain": [
       "0.8080808080808082"
      ]
     },
     "execution_count": 133,
     "metadata": {},
     "output_type": "execute_result"
    }
   ],
   "source": [
    "alpha_ = alphas[np.where(prices < P)[0][0]]\n",
    "alpha_"
   ]
  },
  {
   "cell_type": "code",
   "execution_count": 134,
   "id": "da41b501-cea9-4016-8e8e-233ba4417794",
   "metadata": {},
   "outputs": [
    {
     "data": {
      "text/plain": [
       "<matplotlib.lines.Line2D at 0x16a141bd0>"
      ]
     },
     "execution_count": 134,
     "metadata": {},
     "output_type": "execute_result"
    },
    {
     "data": {
      "image/png": "[encoded data removed]",
      "text/plain": [
       "<Figure size 640x480 with 1 Axes>"
      ]
     },
     "metadata": {},
     "output_type": "display_data"
    }
   ],
   "source": [
    "plt.plot(alphas, prices)\n",
    "plt.axhline(P, color=\"r\", alpha=0.5)\n",
    "plt.axvline(alpha_, color=\"g\", alpha=0.5)"
   ]
  },
  {
   "cell_type": "markdown",
   "id": "3dd9401c-6dc1-406f-8923-5989da79a61a",
   "metadata": {},
   "source": [
    "### Solve symbolically"
   ]
  },
  {
   "cell_type": "code",
   "execution_count": 135,
   "id": "11130cf6-3abd-491e-8d6c-24c708b680cb",
   "metadata": {},
   "outputs": [],
   "source": [
    "import sympy as sp"
   ]
  },
  {
   "cell_type": "code",
   "execution_count": 136,
   "id": "5d48c73a-c7c5-4740-ae6d-09018115b87d",
   "metadata": {},
   "outputs": [],
   "source": [
    "a = sp.Symbol(\"a\")"
   ]
  },
  {
   "cell_type": "code",
   "execution_count": 137,
   "id": "f33394f1-4ccd-4c86-895c-8184b5d762ef",
   "metadata": {},
   "outputs": [
    {
     "data": {
      "text/latex": [
       "$\\displaystyle -90 + 100 e^{- 0.333333333333333 a} + 5.0 e^{- 0.25 a} + 5.0 e^{- 0.166666666666667 a} + 5.0 e^{- 0.0833333333333333 a}$"
      ],
      "text/plain": [
       "-90 + 100*exp(-0.333333333333333*a) + 5.0*exp(-0.25*a) + 5.0*exp(-0.166666666666667*a) + 5.0*exp(-0.0833333333333333*a)"
      ]
     },
     "execution_count": 137,
     "metadata": {},
     "output_type": "execute_result"
    }
   ],
   "source": [
    "cashflows = [F * c] * len(ts) + [F]\n",
    "discounts = [sp.exp(- a * t) for t in [*ts, tF]]\n",
    "discounted_cashflows = [cf * d for cf, d in zip(cashflows, discounts)]\n",
    "formula = sum(discounted_cashflows) - P\n",
    "formula"
   ]
  },
  {
   "cell_type": "markdown",
   "id": "eb9ef055-89ce-49d4-876b-f9dd71655a43",
   "metadata": {},
   "source": [
    "As you can see, the solve() call is very slow"
   ]
  },
  {
   "cell_type": "code",
   "execution_count": 138,
   "id": "b0754b94-f3d8-4050-8a92-803d7ffc1b2d",
   "metadata": {},
   "outputs": [
    {
     "name": "stdout",
     "output_type": "stream",
     "text": [
      "12.4 s ± 64.7 ms per loop (mean ± std. dev. of 7 runs, 1 loop each)\n"
     ]
    }
   ],
   "source": [
    "%timeit sp.solve(formula, a)"
   ]
  },
  {
   "cell_type": "markdown",
   "id": "9b451ca8-8ea5-433d-ac07-14895d041b75",
   "metadata": {},
   "source": [
    "## Solve with Newton"
   ]
  },
  {
   "cell_type": "code",
   "execution_count": 3,
   "id": "7918074b-cdfe-483c-9c1e-cd32127663bc",
   "metadata": {},
   "outputs": [],
   "source": [
    "def ytm_function(ytm_guess: float) -> float:\n",
    "    price = 950  # Example market price\n",
    "    par_value = 1000  # Example face value\n",
    "    coupon_rate = 0.05  # 5% annual coupon rate\n",
    "    years_to_maturity = 5  # Number of years to maturity\n",
    "    frequency = 1  # Annual coupon payments\n",
    "\n",
    "    coupon_payment = par_value * coupon_rate\n",
    "    total_coupon_payments = years_to_maturity * frequency\n",
    "\n",
    "    # Calculate the present value of coupon payments\n",
    "    present_value_coupons = sum([coupon_payment / (1 + ytm_guess / frequency) ** (i + 1) for i in range(total_coupon_payments)])\n",
    "    \n",
    "    # Calculate the present value of the face value\n",
    "    present_value_face_value = par_value / (1 + ytm_guess / frequency) ** total_coupon_payments\n",
    "    \n",
    "    # Calculate the total present value\n",
    "    present_value_total = present_value_coupons + present_value_face_value\n",
    "    \n",
    "    # The YTM equation: Price = Present Value of Coupons + Present Value of Face Value\n",
    "    return present_value_total - price"
   ]
  },
  {
   "cell_type": "code",
   "execution_count": 37,
   "id": "f6bed639-2df1-4363-a1b9-744a9ebe9f94",
   "metadata": {},
   "outputs": [
    {
     "data": {
      "text/plain": [
       "-0.011017858983905171"
      ]
     },
     "execution_count": 37,
     "metadata": {},
     "output_type": "execute_result"
    }
   ],
   "source": [
    "ytm_function(0.061935)"
   ]
  },
  {
   "cell_type": "code",
   "execution_count": 41,
   "id": "514e9365-a8f2-4ed2-8b65-fb7f5ca5a224",
   "metadata": {},
   "outputs": [],
   "source": [
    "from scipy.optimize import newton"
   ]
  },
  {
   "cell_type": "markdown",
   "id": "04e2f0da-7709-402e-ae1a-f8eb3a0f0612",
   "metadata": {},
   "source": [
    "The newton method is fast in comparison to the sympy approach."
   ]
  },
  {
   "cell_type": "code",
   "execution_count": 46,
   "id": "6262f64f-b07e-41ee-9882-d6fdb12a5abb",
   "metadata": {},
   "outputs": [
    {
     "name": "stdout",
     "output_type": "stream",
     "text": [
      "99.9 µs ± 433 ns per loop (mean ± std. dev. of 7 runs, 10,000 loops each)\n"
     ]
    }
   ],
   "source": [
    "%timeit newton(ytm_function, x0=0.1)"
   ]
  }
 ],
 "metadata": {
  "kernelspec": {
   "display_name": "Python 3 (ipykernel)",
   "language": "python",
   "name": "python3"
  },
  "language_info": {
   "codemirror_mode": {
    "name": "ipython",
    "version": 3
   },
   "file_extension": ".py",
   "mimetype": "text/x-python",
   "name": "python",
   "nbconvert_exporter": "python",
   "pygments_lexer": "ipython3",
   "version": "3.11.2"
  }
 },
 "nbformat": 4,
 "nbformat_minor": 5
}
