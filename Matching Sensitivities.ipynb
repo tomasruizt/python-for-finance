{
 "cells": [
  {
   "cell_type": "markdown",
   "id": "c33918d4-aa9a-46b8-8131-491eb2725c65",
   "metadata": {},
   "source": [
    "# Matching sensitivities\n",
    "* One can hedge a position e.g. with long put options on the underlying.\n",
    "* The total portfolio is *delta-neutral* if the number of options is chosen correctly.\n",
    "* However, the total portfolio is general not neutral anymore in terms of the rest of the greeks.\n",
    "* One can add more positions to the portfolio to become neutral in all greeks.\n",
    "$\\newcommand{\\M}{\\mathbf{M}} \\newcommand{\\x}{\\mathbf{x}} \\newcommand{\\y}{\\mathbf{y}}$"
   ]
  },
  {
   "cell_type": "code",
   "execution_count": 1,
   "id": "6f974b65-900d-432b-810f-1878b2ea5e3c",
   "metadata": {},
   "outputs": [],
   "source": [
    "import numpy as np\n",
    "import pandas as pd"
   ]
  },
  {
   "cell_type": "code",
   "execution_count": 2,
   "id": "86b018ef-5abd-440f-a61e-d0103624b275",
   "metadata": {},
   "outputs": [],
   "source": [
    "num_greeks = 4\n",
    "num_options = 600"
   ]
  },
  {
   "cell_type": "markdown",
   "id": "9321f532-82bf-4250-8e2c-71a4beb2ec55",
   "metadata": {},
   "source": [
    "For simplicity, assume each option has a different mix of greeks. The matrix $\\M$ contains the greeks for all options. Each option is a column:"
   ]
  },
  {
   "cell_type": "code",
   "execution_count": 3,
   "id": "f726f10b-342c-488d-bb78-5a4049c2238a",
   "metadata": {},
   "outputs": [
    {
     "data": {
      "text/plain": [
       "(4, 600)"
      ]
     },
     "execution_count": 3,
     "metadata": {},
     "output_type": "execute_result"
    }
   ],
   "source": [
    "np.random.seed(1)\n",
    "M = np.random.random((num_greeks, num_options))\n",
    "M.shape"
   ]
  },
  {
   "cell_type": "markdown",
   "id": "43bc4d3d-0cd6-4af5-be36-444394d32405",
   "metadata": {},
   "source": [
    "* Our aim is to find out how much of each option to purchase.\n",
    "* In the vector $\\x$ each entry $\\x_i$ encodes how much of each option to buy or sell. Positive value for $\\x_i$ are long positions, and negative values short positions.\n",
    "* The target exposure in term of greeks is encoded in the vector $\\y$. Since there are 4 greeks, $\\y \\in \\mathbb{R}^4$.\n",
    "* The delta entry in $\\y$ is equal to -1 to offset the underlying, which has delta 1. Therefore: $\\y = [-1, 0, 0, 0]$.\n",
    "\n",
    "The problem in terms of solving a linear system of equations is: $$ \\M \\x = \\y $$\n",
    "\n",
    "**Note**: We cannot use `np.lingalg.solve(M, y)` because M is not a square matrix. Instead we use least squares. Which amounts to solving a minimization problem: $$ \\min_\\x || \\M \\x - \\y ||_2 $$"
   ]
  },
  {
   "cell_type": "code",
   "execution_count": 4,
   "id": "a28ad68e-a511-4207-a23b-69c6a6a20718",
   "metadata": {},
   "outputs": [],
   "source": [
    "y = np.array([-1, 0, 0, 0])\n",
    "x, *_ = np.linalg.lstsq(M, y, rcond=None)"
   ]
  },
  {
   "cell_type": "markdown",
   "id": "06c7fbf6-523d-463a-bfdf-3da844466b22",
   "metadata": {},
   "source": [
    "We can see that $\\M \\x = \\y$. But also, we are taking diminute positions in each option:"
   ]
  },
  {
   "cell_type": "code",
   "execution_count": 5,
   "id": "17a75355-c0a5-409f-a89e-3c24e55b7799",
   "metadata": {},
   "outputs": [
    {
     "name": "stdout",
     "output_type": "stream",
     "text": [
      "[-1.00000000e+00 -2.88657986e-15 -1.91166527e-15 -1.83013327e-15]\n",
      "4.501841384490859e-15\n"
     ]
    }
   ],
   "source": [
    "def error(yhat):\n",
    "    return np.linalg.norm(y - yhat)\n",
    "\n",
    "print(M @ x)\n",
    "print(error(M @ x))"
   ]
  },
  {
   "cell_type": "code",
   "execution_count": 6,
   "id": "7d12fa90-112d-4312-9a4f-4e10c876f52e",
   "metadata": {},
   "outputs": [
    {
     "data": {
      "text/plain": [
       "count    600.000000\n",
       "mean      -0.000763\n",
       "std        0.004916\n",
       "min       -0.012770\n",
       "10%       -0.007301\n",
       "50%       -0.001179\n",
       "90%        0.005843\n",
       "99%        0.009362\n",
       "max        0.011563\n",
       "dtype: float64"
      ]
     },
     "execution_count": 6,
     "metadata": {},
     "output_type": "execute_result"
    }
   ],
   "source": [
    "pd.Series(x).describe(percentiles=[.1, .5, .9, .99])"
   ]
  },
  {
   "cell_type": "markdown",
   "id": "0aef16aa-a7d2-4eff-8b06-9ab4eadc647b",
   "metadata": {},
   "source": [
    "Instead of taking many small positions, we would like to take few a couple larger positions. This will make actual trading significantly simpler and save transaction costs. "
   ]
  },
  {
   "cell_type": "markdown",
   "id": "78643650-66e5-4213-84d6-e9e406073ba0",
   "metadata": {},
   "source": [
    "## Encouraging Sparse Solutions: Lasso\n",
    "* There are many ways to combine 600 different options to the 4 greeks in $\\y$. The solution is underdetermined.\n",
    "* Therefore `np.lingalg.lstsq(M, y)` finds the solution for that minimizes the L2 norm of $\\x$.\n",
    "* To find as solution $\\x$ with many zeros as possible, we want to minimize instead the L1 norm of $\\x$ (as an approximation).\n",
    "* This can be achieved with Lasso regression.\n",
    "\n",
    "In the Lasso regression below\n",
    "* I found the parameters for `alpha` and `fit_intercept` by trial and error.\n",
    "* the solution for $\\x$ is close to $\\y$, but not quite equal (within 1%)\n",
    "* It uses only 5 options rather than 600."
   ]
  },
  {
   "cell_type": "code",
   "execution_count": 7,
   "id": "4d1dcf71-9946-425e-b21c-a705c144c401",
   "metadata": {},
   "outputs": [],
   "source": [
    "from sklearn.linear_model import Lasso"
   ]
  },
  {
   "cell_type": "code",
   "execution_count": 8,
   "id": "2bc535a7-d088-403d-beae-94833ac655f3",
   "metadata": {},
   "outputs": [
    {
     "name": "stdout",
     "output_type": "stream",
     "text": [
      "18.2 ms ± 33.4 µs per loop (mean ± std. dev. of 7 runs, 100 loops each)\n"
     ]
    },
    {
     "data": {
      "text/plain": [
       "0.005877870054588706"
      ]
     },
     "execution_count": 8,
     "metadata": {},
     "output_type": "execute_result"
    }
   ],
   "source": [
    "def lasso(alpha: float) -> np.ndarray:\n",
    "    lasso = Lasso(alpha=alpha, max_iter=10000, fit_intercept=False)\n",
    "    lasso.fit(M, y)\n",
    "    return lasso.coef_\n",
    "\n",
    "%timeit lasso(alpha=0.001)\n",
    "x2 = lasso(alpha=0.001)\n",
    "error(M @ x2)"
   ]
  },
  {
   "cell_type": "code",
   "execution_count": 9,
   "id": "e802cd4e-fcad-484c-b521-7b267ce10ada",
   "metadata": {},
   "outputs": [
    {
     "data": {
      "text/plain": [
       "array([ 0.20949149, -0.11422789, -0.88781702, -0.02357888])"
      ]
     },
     "execution_count": 9,
     "metadata": {},
     "output_type": "execute_result"
    }
   ],
   "source": [
    "x2[x2 != 0]"
   ]
  },
  {
   "cell_type": "markdown",
   "id": "d2b46bbf-faeb-41d8-8946-dab5dbec0d36",
   "metadata": {},
   "source": [
    "#### Optimal $\\alpha$\n",
    "* Let's try different values for `alpha` and find their trade-offs.\n",
    "* A higher `alpha` encourages sparsity more, but increases the error of $\\M \\x - \\y$. We can reduce the error by reducing `alpha`.\n",
    "* However, at a certain point where the sparsity breaks down, and the number of option positions shoots up."
   ]
  },
  {
   "cell_type": "code",
   "execution_count": 10,
   "id": "765bcd22-9b12-4da1-afea-dd2380bd806d",
   "metadata": {},
   "outputs": [
    {
     "name": "stderr",
     "output_type": "stream",
     "text": [
      "/Users/tomasruiz/code/python-for-finance/venv/lib/python3.11/site-packages/sklearn/linear_model/_coordinate_descent.py:628: ConvergenceWarning: Objective did not converge. You might want to increase the number of iterations, check the scale of the features or consider increasing regularisation. Duality gap: 1.033e-04, tolerance: 1.000e-04\n",
      "  model = cd_fast.enet_coordinate_descent(\n",
      "/Users/tomasruiz/code/python-for-finance/venv/lib/python3.11/site-packages/sklearn/linear_model/_coordinate_descent.py:628: ConvergenceWarning: Objective did not converge. You might want to increase the number of iterations, check the scale of the features or consider increasing regularisation. Duality gap: 1.033e-04, tolerance: 1.000e-04\n",
      "  model = cd_fast.enet_coordinate_descent(\n"
     ]
    }
   ],
   "source": [
    "alphas = 10.0 ** -np.linspace(2, 4, 20)\n",
    "errors = [error(M @ lasso(a)) for a in alphas]\n",
    "numopts = [(~np.isclose(lasso(a), 0)).sum() for a in alphas]"
   ]
  },
  {
   "cell_type": "code",
   "execution_count": 11,
   "id": "5e66075d-9864-4b2a-acc6-7c43b8c11307",
   "metadata": {},
   "outputs": [
    {
     "data": {
      "image/png": "[encoded data removed]",
      "text/plain": [
       "<Figure size 640x480 with 2 Axes>"
      ]
     },
     "metadata": {},
     "output_type": "display_data"
    }
   ],
   "source": [
    "import matplotlib.pyplot as plt\n",
    "plt.title(r\"Optimal $\\alpha$\")\n",
    "plt.plot(alphas, numopts, marker=\"o\", linestyle=\"--\", label=\"unique positions\")\n",
    "plt.xlabel(r\"$\\alpha$\")\n",
    "plt.ylabel(\"Num of Unique Positions\")\n",
    "plt.xticks(alphas)\n",
    "plt.legend(loc=\"upper left\")\n",
    "ax2 = plt.twinx()\n",
    "ax2.set_ylabel(\"Error\")\n",
    "ax2.plot(alphas, errors, marker='s', linestyle='--', color='r', label=\"error\")\n",
    "plt.xscale('log')\n",
    "plt.legend(loc=\"upper right\")\n",
    "plt.show()"
   ]
  },
  {
   "cell_type": "markdown",
   "id": "511b15f6-c3a4-4dfd-8245-e115b35bd1d0",
   "metadata": {},
   "source": [
    "## OMP: A Greedy Algorithm for Sparsity\n",
    "* ChatGPT suggested I try the [OMP algorithm](https://scikit-learn.org/stable/modules/linear_model.html#orthogonal-matching-pursuit-omp), with the disclaimer that it might not scale to larger problems. \n",
    "* Since our search space is not huge (600 options), this might not be a problem.\n",
    "* In fact, timing the algorithm reveals that it is at least an order of magnitude faster than Lasso.\n",
    "* Below we achieve exact results, using 4 options."
   ]
  },
  {
   "cell_type": "code",
   "execution_count": 12,
   "id": "f4807603-9a26-4f99-8686-fbd9e131f6dc",
   "metadata": {},
   "outputs": [
    {
     "name": "stdout",
     "output_type": "stream",
     "text": [
      "197 µs ± 734 ns per loop (mean ± std. dev. of 7 runs, 1,000 loops each)\n"
     ]
    }
   ],
   "source": [
    "from sklearn.linear_model import orthogonal_mp, OrthogonalMatchingPursuit\n",
    "\n",
    "%timeit orthogonal_mp(M, y, tol=1e-4)\n",
    "x3 = orthogonal_mp(M, y, tol=1e-4)"
   ]
  },
  {
   "cell_type": "code",
   "execution_count": 13,
   "id": "4c99069e-0a44-468e-940f-5c96458e2051",
   "metadata": {},
   "outputs": [
    {
     "data": {
      "text/plain": [
       "0.007418781045996719"
      ]
     },
     "execution_count": 13,
     "metadata": {},
     "output_type": "execute_result"
    }
   ],
   "source": [
    "error(M @ x3)"
   ]
  },
  {
   "cell_type": "code",
   "execution_count": 14,
   "id": "24cc2e06-d251-438f-93bf-ed141b50615e",
   "metadata": {},
   "outputs": [
    {
     "data": {
      "text/plain": [
       "array([-0.58492361,  0.57690631, -0.44261911])"
      ]
     },
     "execution_count": 14,
     "metadata": {},
     "output_type": "execute_result"
    }
   ],
   "source": [
    "x3[x3 != 0]"
   ]
  },
  {
   "cell_type": "markdown",
   "id": "bc1d3471-742b-45fc-9067-907a8335b20a",
   "metadata": {},
   "source": [
    "* OMP can take explicitly a number of options to use (non-zero entries in $\\x$).\n",
    "* Let's see how far we can get with only 1, 2, 3, ... options.\n",
    "* The solution is exact at 4 and does not get better afterwards, which makes intuitive sense, since a combination of 4 linearly independent options suffices to replicate any greek vector."
   ]
  },
  {
   "cell_type": "code",
   "execution_count": 15,
   "id": "96441d91-a35e-480c-bf16-fb54fe6cedc7",
   "metadata": {},
   "outputs": [],
   "source": [
    "numopts = list(range(1, 7))\n",
    "errors = [error(M @ orthogonal_mp(M, y, n_nonzero_coefs=n)) for n in numopts]"
   ]
  },
  {
   "cell_type": "code",
   "execution_count": 16,
   "id": "5b92b604-40af-44b8-93dd-49e0035927a7",
   "metadata": {},
   "outputs": [
    {
     "data": {
      "image/png": "[encoded data removed]",
      "text/plain": [
       "<Figure size 640x480 with 1 Axes>"
      ]
     },
     "metadata": {},
     "output_type": "display_data"
    }
   ],
   "source": [
    "plt.plot(numopts, errors, marker=\"o\", linestyle=\"--\")\n",
    "plt.title(\"Error by Num Options\")\n",
    "plt.xlabel(\"Num Options\")\n",
    "plt.ylabel(\"Error\")\n",
    "plt.xticks(numopts)\n",
    "plt.show()"
   ]
  }
 ],
 "metadata": {
  "kernelspec": {
   "display_name": "Python 3 (ipykernel)",
   "language": "python",
   "name": "python3"
  },
  "language_info": {
   "codemirror_mode": {
    "name": "ipython",
    "version": 3
   },
   "file_extension": ".py",
   "mimetype": "text/x-python",
   "name": "python",
   "nbconvert_exporter": "python",
   "pygments_lexer": "ipython3",
   "version": "3.11.2"
  }
 },
 "nbformat": 4,
 "nbformat_minor": 5
}
